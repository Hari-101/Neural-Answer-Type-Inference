{
  "nbformat": 4,
  "nbformat_minor": 0,
  "metadata": {
    "colab": {
      "name": "203170005_CS728_Assignment3_Q2.ipynb",
      "provenance": [],
      "collapsed_sections": []
    },
    "kernelspec": {
      "name": "python3",
      "display_name": "Python 3"
    },
    "language_info": {
      "name": "python"
    },
    "gpuClass": "standard"
  },
  "cells": [
    {
      "cell_type": "code",
      "source": [
        "import pandas as pd\n",
        "import torch\n",
        "import numpy as np"
      ],
      "metadata": {
        "id": "AewH3SUh_14r"
      },
      "execution_count": 1,
      "outputs": []
    },
    {
      "cell_type": "code",
      "source": [
        "def set_seed(seed):\n",
        "    #random.seed(seed)\n",
        "    np.random.seed(seed)\n",
        "    torch.manual_seed(seed)\n",
        "    torch.cuda.manual_seed_all(seed)\n",
        "\n",
        "set_seed(100)"
      ],
      "metadata": {
        "id": "X4NOdvu9HUBE"
      },
      "execution_count": null,
      "outputs": []
    },
    {
      "cell_type": "code",
      "source": [
        "path_to_datasource = '/content/drive/MyDrive/CS728_Assgn3/AnswerTypeInference_Train_Data.txt'"
      ],
      "metadata": {
        "id": "dBYf6E81ODbZ"
      },
      "execution_count": 3,
      "outputs": []
    },
    {
      "cell_type": "code",
      "execution_count": 4,
      "metadata": {
        "id": "VK2JAqpKBSYg",
        "colab": {
          "base_uri": "https://localhost:8080/",
          "height": 424
        },
        "outputId": "a999729d-670c-4517-df34-385d2cf7ac67"
      },
      "outputs": [
        {
          "output_type": "execute_result",
          "data": {
            "text/plain": [
              "                                               question coarse_label  \\\n",
              "0     How did serfdom develop in and then leave Russia          DESC   \n",
              "1       What films featured the character Popeye Doyle          ENTY   \n",
              "2     How can I find a list of celebrities ' real na...         DESC   \n",
              "3     What fowl grabs the spotlight after the Chines...         ENTY   \n",
              "4                        What is the full form of .com          ABBR   \n",
              "...                                                 ...          ...   \n",
              "5447             What 's the shape of a camel 's spine          ENTY   \n",
              "5448            What type of currency is used in China          ENTY   \n",
              "5449                     What is the temperature today           NUM   \n",
              "5450               What is the temperature for cooking           NUM   \n",
              "5451                 What currency is used in Australia         ENTY   \n",
              "\n",
              "     fine_label  \n",
              "0        manner  \n",
              "1        cremat  \n",
              "2        manner  \n",
              "3        animal  \n",
              "4           exp  \n",
              "...         ...  \n",
              "5447      other  \n",
              "5448   currency  \n",
              "5449       temp  \n",
              "5450       temp  \n",
              "5451   currency  \n",
              "\n",
              "[5452 rows x 3 columns]"
            ],
            "text/html": [
              "\n",
              "  <div id=\"df-ad52ed22-fa5e-4eeb-8361-f0f7ab074dd2\">\n",
              "    <div class=\"colab-df-container\">\n",
              "      <div>\n",
              "<style scoped>\n",
              "    .dataframe tbody tr th:only-of-type {\n",
              "        vertical-align: middle;\n",
              "    }\n",
              "\n",
              "    .dataframe tbody tr th {\n",
              "        vertical-align: top;\n",
              "    }\n",
              "\n",
              "    .dataframe thead th {\n",
              "        text-align: right;\n",
              "    }\n",
              "</style>\n",
              "<table border=\"1\" class=\"dataframe\">\n",
              "  <thead>\n",
              "    <tr style=\"text-align: right;\">\n",
              "      <th></th>\n",
              "      <th>question</th>\n",
              "      <th>coarse_label</th>\n",
              "      <th>fine_label</th>\n",
              "    </tr>\n",
              "  </thead>\n",
              "  <tbody>\n",
              "    <tr>\n",
              "      <th>0</th>\n",
              "      <td>How did serfdom develop in and then leave Russia</td>\n",
              "      <td>DESC</td>\n",
              "      <td>manner</td>\n",
              "    </tr>\n",
              "    <tr>\n",
              "      <th>1</th>\n",
              "      <td>What films featured the character Popeye Doyle</td>\n",
              "      <td>ENTY</td>\n",
              "      <td>cremat</td>\n",
              "    </tr>\n",
              "    <tr>\n",
              "      <th>2</th>\n",
              "      <td>How can I find a list of celebrities ' real na...</td>\n",
              "      <td>DESC</td>\n",
              "      <td>manner</td>\n",
              "    </tr>\n",
              "    <tr>\n",
              "      <th>3</th>\n",
              "      <td>What fowl grabs the spotlight after the Chines...</td>\n",
              "      <td>ENTY</td>\n",
              "      <td>animal</td>\n",
              "    </tr>\n",
              "    <tr>\n",
              "      <th>4</th>\n",
              "      <td>What is the full form of .com</td>\n",
              "      <td>ABBR</td>\n",
              "      <td>exp</td>\n",
              "    </tr>\n",
              "    <tr>\n",
              "      <th>...</th>\n",
              "      <td>...</td>\n",
              "      <td>...</td>\n",
              "      <td>...</td>\n",
              "    </tr>\n",
              "    <tr>\n",
              "      <th>5447</th>\n",
              "      <td>What 's the shape of a camel 's spine</td>\n",
              "      <td>ENTY</td>\n",
              "      <td>other</td>\n",
              "    </tr>\n",
              "    <tr>\n",
              "      <th>5448</th>\n",
              "      <td>What type of currency is used in China</td>\n",
              "      <td>ENTY</td>\n",
              "      <td>currency</td>\n",
              "    </tr>\n",
              "    <tr>\n",
              "      <th>5449</th>\n",
              "      <td>What is the temperature today</td>\n",
              "      <td>NUM</td>\n",
              "      <td>temp</td>\n",
              "    </tr>\n",
              "    <tr>\n",
              "      <th>5450</th>\n",
              "      <td>What is the temperature for cooking</td>\n",
              "      <td>NUM</td>\n",
              "      <td>temp</td>\n",
              "    </tr>\n",
              "    <tr>\n",
              "      <th>5451</th>\n",
              "      <td>What currency is used in Australia</td>\n",
              "      <td>ENTY</td>\n",
              "      <td>currency</td>\n",
              "    </tr>\n",
              "  </tbody>\n",
              "</table>\n",
              "<p>5452 rows × 3 columns</p>\n",
              "</div>\n",
              "      <button class=\"colab-df-convert\" onclick=\"convertToInteractive('df-ad52ed22-fa5e-4eeb-8361-f0f7ab074dd2')\"\n",
              "              title=\"Convert this dataframe to an interactive table.\"\n",
              "              style=\"display:none;\">\n",
              "        \n",
              "  <svg xmlns=\"http://www.w3.org/2000/svg\" height=\"24px\"viewBox=\"0 0 24 24\"\n",
              "       width=\"24px\">\n",
              "    <path d=\"M0 0h24v24H0V0z\" fill=\"none\"/>\n",
              "    <path d=\"M18.56 5.44l.94 2.06.94-2.06 2.06-.94-2.06-.94-.94-2.06-.94 2.06-2.06.94zm-11 1L8.5 8.5l.94-2.06 2.06-.94-2.06-.94L8.5 2.5l-.94 2.06-2.06.94zm10 10l.94 2.06.94-2.06 2.06-.94-2.06-.94-.94-2.06-.94 2.06-2.06.94z\"/><path d=\"M17.41 7.96l-1.37-1.37c-.4-.4-.92-.59-1.43-.59-.52 0-1.04.2-1.43.59L10.3 9.45l-7.72 7.72c-.78.78-.78 2.05 0 2.83L4 21.41c.39.39.9.59 1.41.59.51 0 1.02-.2 1.41-.59l7.78-7.78 2.81-2.81c.8-.78.8-2.07 0-2.86zM5.41 20L4 18.59l7.72-7.72 1.47 1.35L5.41 20z\"/>\n",
              "  </svg>\n",
              "      </button>\n",
              "      \n",
              "  <style>\n",
              "    .colab-df-container {\n",
              "      display:flex;\n",
              "      flex-wrap:wrap;\n",
              "      gap: 12px;\n",
              "    }\n",
              "\n",
              "    .colab-df-convert {\n",
              "      background-color: #E8F0FE;\n",
              "      border: none;\n",
              "      border-radius: 50%;\n",
              "      cursor: pointer;\n",
              "      display: none;\n",
              "      fill: #1967D2;\n",
              "      height: 32px;\n",
              "      padding: 0 0 0 0;\n",
              "      width: 32px;\n",
              "    }\n",
              "\n",
              "    .colab-df-convert:hover {\n",
              "      background-color: #E2EBFA;\n",
              "      box-shadow: 0px 1px 2px rgba(60, 64, 67, 0.3), 0px 1px 3px 1px rgba(60, 64, 67, 0.15);\n",
              "      fill: #174EA6;\n",
              "    }\n",
              "\n",
              "    [theme=dark] .colab-df-convert {\n",
              "      background-color: #3B4455;\n",
              "      fill: #D2E3FC;\n",
              "    }\n",
              "\n",
              "    [theme=dark] .colab-df-convert:hover {\n",
              "      background-color: #434B5C;\n",
              "      box-shadow: 0px 1px 3px 1px rgba(0, 0, 0, 0.15);\n",
              "      filter: drop-shadow(0px 1px 2px rgba(0, 0, 0, 0.3));\n",
              "      fill: #FFFFFF;\n",
              "    }\n",
              "  </style>\n",
              "\n",
              "      <script>\n",
              "        const buttonEl =\n",
              "          document.querySelector('#df-ad52ed22-fa5e-4eeb-8361-f0f7ab074dd2 button.colab-df-convert');\n",
              "        buttonEl.style.display =\n",
              "          google.colab.kernel.accessAllowed ? 'block' : 'none';\n",
              "\n",
              "        async function convertToInteractive(key) {\n",
              "          const element = document.querySelector('#df-ad52ed22-fa5e-4eeb-8361-f0f7ab074dd2');\n",
              "          const dataTable =\n",
              "            await google.colab.kernel.invokeFunction('convertToInteractive',\n",
              "                                                     [key], {});\n",
              "          if (!dataTable) return;\n",
              "\n",
              "          const docLinkHtml = 'Like what you see? Visit the ' +\n",
              "            '<a target=\"_blank\" href=https://colab.research.google.com/notebooks/data_table.ipynb>data table notebook</a>'\n",
              "            + ' to learn more about interactive tables.';\n",
              "          element.innerHTML = '';\n",
              "          dataTable['output_type'] = 'display_data';\n",
              "          await google.colab.output.renderOutput(dataTable, element);\n",
              "          const docLink = document.createElement('div');\n",
              "          docLink.innerHTML = docLinkHtml;\n",
              "          element.appendChild(docLink);\n",
              "        }\n",
              "      </script>\n",
              "    </div>\n",
              "  </div>\n",
              "  "
            ]
          },
          "metadata": {},
          "execution_count": 4
        }
      ],
      "source": [
        "def get_data(path):\n",
        "  coarse_label = []\n",
        "  fine_label = []\n",
        "  question = []\n",
        "  with open(path) as f:\n",
        "      for line in f:\n",
        "          label, ques = line.split(maxsplit=1)\n",
        "          coarse_label.append(label.split(':')[0])\n",
        "          fine_label.append(label.split(':')[1])\n",
        "          question.append(ques[:-2])\n",
        "  return question, coarse_label, fine_label\n",
        "\n",
        "question, coarse_label, fine_label = get_data(path_to_datasource)\n",
        "\n",
        "df = pd.DataFrame(zip(question, coarse_label, fine_label), columns=['question', 'coarse_label', 'fine_label'])\n",
        "df    "
      ]
    },
    {
      "cell_type": "code",
      "source": [
        "len(df['fine_label'].value_counts())"
      ],
      "metadata": {
        "colab": {
          "base_uri": "https://localhost:8080/"
        },
        "id": "w3Nqg--_A9as",
        "outputId": "de5dfcd0-ebb4-4c89-f8c1-cba0974e280c"
      },
      "execution_count": 5,
      "outputs": [
        {
          "output_type": "execute_result",
          "data": {
            "text/plain": [
              "47"
            ]
          },
          "metadata": {},
          "execution_count": 5
        }
      ]
    },
    {
      "cell_type": "code",
      "source": [
        "df[df['fine_label'] == 'instru']"
      ],
      "metadata": {
        "colab": {
          "base_uri": "https://localhost:8080/",
          "height": 363
        },
        "id": "-IfLgNVQCRuz",
        "outputId": "c7789757-5815-471c-8002-e004795579dc"
      },
      "execution_count": 6,
      "outputs": [
        {
          "output_type": "execute_result",
          "data": {
            "text/plain": [
              "                                               question coarse_label  \\\n",
              "256   What instrument is Ray Charles best known for ...         ENTY   \n",
              "457   What musical instrument did Prewitt play in Ja...         ENTY   \n",
              "1012  What musical instrument did Sherlock Holmes play          ENTY   \n",
              "1247                Ray Charles plays which instrument          ENTY   \n",
              "1361  What musical instrument did Prewitt play in Ja...         ENTY   \n",
              "1834         What kind of guitar did Jimi Hendrix play          ENTY   \n",
              "1853        Musician Ray Charles plays what instrument          ENTY   \n",
              "2312  What do West Indian steel bands use as instrum...         ENTY   \n",
              "3190  Ray Charles is best known for playing what ins...         ENTY   \n",
              "3897            What instrument does Benny Carter play          ENTY   \n",
              "\n",
              "     fine_label  \n",
              "256      instru  \n",
              "457      instru  \n",
              "1012     instru  \n",
              "1247     instru  \n",
              "1361     instru  \n",
              "1834     instru  \n",
              "1853     instru  \n",
              "2312     instru  \n",
              "3190     instru  \n",
              "3897     instru  "
            ],
            "text/html": [
              "\n",
              "  <div id=\"df-659fbae6-b49b-4898-9226-0e04cf0aa8ac\">\n",
              "    <div class=\"colab-df-container\">\n",
              "      <div>\n",
              "<style scoped>\n",
              "    .dataframe tbody tr th:only-of-type {\n",
              "        vertical-align: middle;\n",
              "    }\n",
              "\n",
              "    .dataframe tbody tr th {\n",
              "        vertical-align: top;\n",
              "    }\n",
              "\n",
              "    .dataframe thead th {\n",
              "        text-align: right;\n",
              "    }\n",
              "</style>\n",
              "<table border=\"1\" class=\"dataframe\">\n",
              "  <thead>\n",
              "    <tr style=\"text-align: right;\">\n",
              "      <th></th>\n",
              "      <th>question</th>\n",
              "      <th>coarse_label</th>\n",
              "      <th>fine_label</th>\n",
              "    </tr>\n",
              "  </thead>\n",
              "  <tbody>\n",
              "    <tr>\n",
              "      <th>256</th>\n",
              "      <td>What instrument is Ray Charles best known for ...</td>\n",
              "      <td>ENTY</td>\n",
              "      <td>instru</td>\n",
              "    </tr>\n",
              "    <tr>\n",
              "      <th>457</th>\n",
              "      <td>What musical instrument did Prewitt play in Ja...</td>\n",
              "      <td>ENTY</td>\n",
              "      <td>instru</td>\n",
              "    </tr>\n",
              "    <tr>\n",
              "      <th>1012</th>\n",
              "      <td>What musical instrument did Sherlock Holmes play</td>\n",
              "      <td>ENTY</td>\n",
              "      <td>instru</td>\n",
              "    </tr>\n",
              "    <tr>\n",
              "      <th>1247</th>\n",
              "      <td>Ray Charles plays which instrument</td>\n",
              "      <td>ENTY</td>\n",
              "      <td>instru</td>\n",
              "    </tr>\n",
              "    <tr>\n",
              "      <th>1361</th>\n",
              "      <td>What musical instrument did Prewitt play in Ja...</td>\n",
              "      <td>ENTY</td>\n",
              "      <td>instru</td>\n",
              "    </tr>\n",
              "    <tr>\n",
              "      <th>1834</th>\n",
              "      <td>What kind of guitar did Jimi Hendrix play</td>\n",
              "      <td>ENTY</td>\n",
              "      <td>instru</td>\n",
              "    </tr>\n",
              "    <tr>\n",
              "      <th>1853</th>\n",
              "      <td>Musician Ray Charles plays what instrument</td>\n",
              "      <td>ENTY</td>\n",
              "      <td>instru</td>\n",
              "    </tr>\n",
              "    <tr>\n",
              "      <th>2312</th>\n",
              "      <td>What do West Indian steel bands use as instrum...</td>\n",
              "      <td>ENTY</td>\n",
              "      <td>instru</td>\n",
              "    </tr>\n",
              "    <tr>\n",
              "      <th>3190</th>\n",
              "      <td>Ray Charles is best known for playing what ins...</td>\n",
              "      <td>ENTY</td>\n",
              "      <td>instru</td>\n",
              "    </tr>\n",
              "    <tr>\n",
              "      <th>3897</th>\n",
              "      <td>What instrument does Benny Carter play</td>\n",
              "      <td>ENTY</td>\n",
              "      <td>instru</td>\n",
              "    </tr>\n",
              "  </tbody>\n",
              "</table>\n",
              "</div>\n",
              "      <button class=\"colab-df-convert\" onclick=\"convertToInteractive('df-659fbae6-b49b-4898-9226-0e04cf0aa8ac')\"\n",
              "              title=\"Convert this dataframe to an interactive table.\"\n",
              "              style=\"display:none;\">\n",
              "        \n",
              "  <svg xmlns=\"http://www.w3.org/2000/svg\" height=\"24px\"viewBox=\"0 0 24 24\"\n",
              "       width=\"24px\">\n",
              "    <path d=\"M0 0h24v24H0V0z\" fill=\"none\"/>\n",
              "    <path d=\"M18.56 5.44l.94 2.06.94-2.06 2.06-.94-2.06-.94-.94-2.06-.94 2.06-2.06.94zm-11 1L8.5 8.5l.94-2.06 2.06-.94-2.06-.94L8.5 2.5l-.94 2.06-2.06.94zm10 10l.94 2.06.94-2.06 2.06-.94-2.06-.94-.94-2.06-.94 2.06-2.06.94z\"/><path d=\"M17.41 7.96l-1.37-1.37c-.4-.4-.92-.59-1.43-.59-.52 0-1.04.2-1.43.59L10.3 9.45l-7.72 7.72c-.78.78-.78 2.05 0 2.83L4 21.41c.39.39.9.59 1.41.59.51 0 1.02-.2 1.41-.59l7.78-7.78 2.81-2.81c.8-.78.8-2.07 0-2.86zM5.41 20L4 18.59l7.72-7.72 1.47 1.35L5.41 20z\"/>\n",
              "  </svg>\n",
              "      </button>\n",
              "      \n",
              "  <style>\n",
              "    .colab-df-container {\n",
              "      display:flex;\n",
              "      flex-wrap:wrap;\n",
              "      gap: 12px;\n",
              "    }\n",
              "\n",
              "    .colab-df-convert {\n",
              "      background-color: #E8F0FE;\n",
              "      border: none;\n",
              "      border-radius: 50%;\n",
              "      cursor: pointer;\n",
              "      display: none;\n",
              "      fill: #1967D2;\n",
              "      height: 32px;\n",
              "      padding: 0 0 0 0;\n",
              "      width: 32px;\n",
              "    }\n",
              "\n",
              "    .colab-df-convert:hover {\n",
              "      background-color: #E2EBFA;\n",
              "      box-shadow: 0px 1px 2px rgba(60, 64, 67, 0.3), 0px 1px 3px 1px rgba(60, 64, 67, 0.15);\n",
              "      fill: #174EA6;\n",
              "    }\n",
              "\n",
              "    [theme=dark] .colab-df-convert {\n",
              "      background-color: #3B4455;\n",
              "      fill: #D2E3FC;\n",
              "    }\n",
              "\n",
              "    [theme=dark] .colab-df-convert:hover {\n",
              "      background-color: #434B5C;\n",
              "      box-shadow: 0px 1px 3px 1px rgba(0, 0, 0, 0.15);\n",
              "      filter: drop-shadow(0px 1px 2px rgba(0, 0, 0, 0.3));\n",
              "      fill: #FFFFFF;\n",
              "    }\n",
              "  </style>\n",
              "\n",
              "      <script>\n",
              "        const buttonEl =\n",
              "          document.querySelector('#df-659fbae6-b49b-4898-9226-0e04cf0aa8ac button.colab-df-convert');\n",
              "        buttonEl.style.display =\n",
              "          google.colab.kernel.accessAllowed ? 'block' : 'none';\n",
              "\n",
              "        async function convertToInteractive(key) {\n",
              "          const element = document.querySelector('#df-659fbae6-b49b-4898-9226-0e04cf0aa8ac');\n",
              "          const dataTable =\n",
              "            await google.colab.kernel.invokeFunction('convertToInteractive',\n",
              "                                                     [key], {});\n",
              "          if (!dataTable) return;\n",
              "\n",
              "          const docLinkHtml = 'Like what you see? Visit the ' +\n",
              "            '<a target=\"_blank\" href=https://colab.research.google.com/notebooks/data_table.ipynb>data table notebook</a>'\n",
              "            + ' to learn more about interactive tables.';\n",
              "          element.innerHTML = '';\n",
              "          dataTable['output_type'] = 'display_data';\n",
              "          await google.colab.output.renderOutput(dataTable, element);\n",
              "          const docLink = document.createElement('div');\n",
              "          docLink.innerHTML = docLinkHtml;\n",
              "          element.appendChild(docLink);\n",
              "        }\n",
              "      </script>\n",
              "    </div>\n",
              "  </div>\n",
              "  "
            ]
          },
          "metadata": {},
          "execution_count": 6
        }
      ]
    },
    {
      "cell_type": "code",
      "source": [
        "#Setting the device to train/ run the model\n",
        "device = torch.device(\"cuda\" if torch.cuda.is_available() else \"cpu\")\n",
        "print(device)"
      ],
      "metadata": {
        "colab": {
          "base_uri": "https://localhost:8080/"
        },
        "id": "4SWNFc3A-mNF",
        "outputId": "96056b6a-143e-477d-cb53-5b9bf521ac1a"
      },
      "execution_count": 7,
      "outputs": [
        {
          "output_type": "stream",
          "name": "stdout",
          "text": [
            "cuda\n"
          ]
        }
      ]
    },
    {
      "cell_type": "code",
      "source": [
        "#Initialising BERT tokenizer as well as bert-base-uncased model for accessing pre-trained BERT embeddings\n",
        "!pip install transformers\n",
        "from transformers import BertTokenizerFast, BertModel\n",
        "tokenizer = BertTokenizerFast.from_pretrained('bert-base-uncased')\n",
        "emb_gen_model = BertModel.from_pretrained('bert-base-uncased',\n",
        "                                  output_hidden_states = True,\n",
        "                                  )\n",
        "\n",
        "emb_gen_model.to(device)"
      ],
      "metadata": {
        "id": "wdj1PMo4Cc0l"
      },
      "execution_count": null,
      "outputs": []
    },
    {
      "cell_type": "code",
      "source": [
        "def get_cls_list(question):\n",
        "  cls_list = []\n",
        "\n",
        "  for q in question:\n",
        "    tokenized_text = tokenizer(q, return_tensors='pt', padding=True).to(device)\n",
        "\n",
        "    with torch.no_grad():\n",
        "      outputs = emb_gen_model(**tokenized_text)\n",
        "      #For each sample, extract out the last layer embedding of the [CLS] token\n",
        "      cls_list.append(outputs[0][0][0].unsqueeze(dim=0))    #and correcting embedding size\n",
        "  return cls_list\n",
        "\n",
        "cls_list = get_cls_list(question)"
      ],
      "metadata": {
        "id": "-qpuPssp2vIM"
      },
      "execution_count": 9,
      "outputs": []
    },
    {
      "cell_type": "code",
      "source": [
        "#Train-validation split cls_list and targets\n",
        "\n",
        "from sklearn import preprocessing\n",
        "le = preprocessing.LabelEncoder()\n",
        "le.fit(fine_label)\n",
        "\n",
        "\n",
        "from sklearn.model_selection import train_test_split\n",
        "rand_seed = 42\n",
        "\n",
        "cls_list_train, cls_list_val, fine_label_train, fine_label_val = \\\n",
        "train_test_split(cls_list, fine_label, test_size= 0.1, \\\n",
        "                 random_state = rand_seed, stratify = fine_label)"
      ],
      "metadata": {
        "id": "PGHhun_bNBd_"
      },
      "execution_count": 10,
      "outputs": []
    },
    {
      "cell_type": "code",
      "source": [
        "#Training tensors\n",
        "train_input_ids = torch.cat(cls_list_train, dim=0)\n",
        "train_target = torch.tensor(le.transform(fine_label_train))\n",
        "\n",
        "#Validation tensors\n",
        "val_input_ids = torch.cat(cls_list_val, dim=0)\n",
        "val_target = torch.tensor(le.transform(fine_label_val))"
      ],
      "metadata": {
        "id": "qu_tgRWlutNy"
      },
      "execution_count": 11,
      "outputs": []
    },
    {
      "cell_type": "code",
      "source": [
        "train_input_ids.size()\n",
        "torch.max(train_target)"
      ],
      "metadata": {
        "colab": {
          "base_uri": "https://localhost:8080/"
        },
        "id": "sLnxmq-3NZ__",
        "outputId": "f5ca3e4a-1681-4f91-9b99-723d301b43cf"
      },
      "execution_count": 12,
      "outputs": [
        {
          "output_type": "execute_result",
          "data": {
            "text/plain": [
              "tensor(46)"
            ]
          },
          "metadata": {},
          "execution_count": 12
        }
      ]
    },
    {
      "cell_type": "code",
      "source": [
        "from torch.utils.data import TensorDataset, DataLoader\n",
        "\n",
        "train_dataset = TensorDataset(train_input_ids, train_target)\n",
        "val_dataset = TensorDataset(val_input_ids, val_target)\n",
        "\n",
        "train_batch_size = 512\n",
        "\n",
        "train_data_loader = torch.utils.data.DataLoader(train_dataset,\n",
        "                                          batch_size=train_batch_size,\n",
        "                                          shuffle=True)"
      ],
      "metadata": {
        "id": "Sq3M1rWE6BxE"
      },
      "execution_count": 13,
      "outputs": []
    },
    {
      "cell_type": "code",
      "source": [
        "hidden_dim = 1000\n",
        "param = {\n",
        "    'i_d' : train_dataset[0][0].size(-1),\n",
        "    'h_d' : hidden_dim,\n",
        "    'o_d' : torch.max(train_target) + 1\n",
        "}"
      ],
      "metadata": {
        "id": "aNSV_QSgOea9"
      },
      "execution_count": 14,
      "outputs": []
    },
    {
      "cell_type": "code",
      "source": [
        "#Defining the neural network model\n",
        "import torch.nn as nn\n",
        "\n",
        "class ATI_Net(nn.Module):\n",
        "    def __init__(self, param: dict):\n",
        "      super().__init__()\n",
        "      self.param = param\n",
        "      self.model = nn.Sequential(\n",
        "          nn.Linear(self.param['i_d'], self.param['h_d']),  \n",
        "          nn.ReLU(),\n",
        "          nn.Linear(self.param['h_d'], self.param['o_d']),\n",
        "      )\n",
        "      \n",
        "    def forward(self, input):\n",
        "        return self.model(input)\n",
        "\n",
        "#Initialise the model\n",
        "model = ATI_Net(param)\n",
        "model.to(device)"
      ],
      "metadata": {
        "colab": {
          "base_uri": "https://localhost:8080/"
        },
        "id": "fArhiLPdN-ev",
        "outputId": "2e99d8b7-9e6d-4016-97aa-4f2ad4e99405"
      },
      "execution_count": 15,
      "outputs": [
        {
          "output_type": "execute_result",
          "data": {
            "text/plain": [
              "ATI_Net(\n",
              "  (model): Sequential(\n",
              "    (0): Linear(in_features=768, out_features=1000, bias=True)\n",
              "    (1): ReLU()\n",
              "    (2): Linear(in_features=1000, out_features=47, bias=True)\n",
              "  )\n",
              ")"
            ]
          },
          "metadata": {},
          "execution_count": 15
        }
      ]
    },
    {
      "cell_type": "code",
      "source": [
        "#Hyper-parameters\n",
        "#Batch size\n",
        "#training batch size set at dataloader initialisation\n",
        "\n",
        "#Optimiser\n",
        "import torch.optim as opt\n",
        "\n",
        "learn_rate = 1e-3  #learning rate\n",
        "optim = opt.Adam(model.parameters(), lr=learn_rate) #optimiser\n",
        "\n",
        "#Loss function\n",
        "criterion=nn.CrossEntropyLoss(reduction = 'sum')  #Loss function"
      ],
      "metadata": {
        "id": "YV6Tr3Y1PlSq"
      },
      "execution_count": 16,
      "outputs": []
    },
    {
      "cell_type": "code",
      "source": [
        "  for _, data in enumerate(train_data_loader):\n",
        "\n",
        "    X, label = data\n",
        "    label=label.to(device)\n",
        "    \n",
        "    output=model(X)\n",
        "    loss=criterion(output, label)\n",
        "\n",
        "    optim.zero_grad()\n",
        "    loss.backward()\n",
        "    optim.step()\n",
        "    break"
      ],
      "metadata": {
        "id": "Q5M64zazSNG4"
      },
      "execution_count": 17,
      "outputs": []
    },
    {
      "cell_type": "code",
      "source": [
        "X.size()"
      ],
      "metadata": {
        "colab": {
          "base_uri": "https://localhost:8080/"
        },
        "id": "mctm3pUOWSgr",
        "outputId": "732e86e4-f8a4-46f2-f6f5-99c956d60ad6"
      },
      "execution_count": 18,
      "outputs": [
        {
          "output_type": "execute_result",
          "data": {
            "text/plain": [
              "torch.Size([512, 768])"
            ]
          },
          "metadata": {},
          "execution_count": 18
        }
      ]
    },
    {
      "cell_type": "code",
      "source": [
        "output.size()"
      ],
      "metadata": {
        "colab": {
          "base_uri": "https://localhost:8080/"
        },
        "id": "qhdncvziTytN",
        "outputId": "e0404739-7571-4791-925d-47e05eefe87a"
      },
      "execution_count": 19,
      "outputs": [
        {
          "output_type": "execute_result",
          "data": {
            "text/plain": [
              "torch.Size([512, 47])"
            ]
          },
          "metadata": {},
          "execution_count": 19
        }
      ]
    },
    {
      "cell_type": "code",
      "source": [
        "#Returns the evaluation dataset cross-entropy loss and accuracy.\n",
        "\n",
        "def eval_model(model, d_set): \n",
        "\n",
        "  preds = []\n",
        "  correct = 0\n",
        "  eval_batch_size = 512\n",
        "  eval_loss = 0\n",
        "  eval_data_loader = torch.utils.data.DataLoader(d_set,\n",
        "                                          batch_size=eval_batch_size, shuffle=False)\n",
        "  \n",
        "  model.eval()\n",
        "  for X, label in eval_data_loader:\n",
        "    X=X.to(device)\n",
        "    label=label.to(device)\n",
        "\n",
        "    with torch.no_grad():\n",
        "      output=model(X)\n",
        "      loss=criterion(output, label)\n",
        "      correct += torch.sum(torch.max(output, dim=-1).indices == label.flatten())\n",
        "      preds.append(torch.max(output, dim=-1).indices.flatten())\n",
        "      eval_loss += loss.item()\n",
        "\n",
        "  pred_labels = torch.cat(preds, dim=-1)\n",
        "  return (correct/len(d_set)), (eval_loss/len(d_set)), le.inverse_transform(pred_labels.to('cpu'))\n"
      ],
      "metadata": {
        "id": "ISq42vL-Tw_b"
      },
      "execution_count": 20,
      "outputs": []
    },
    {
      "cell_type": "code",
      "source": [
        "def train_eval_1_epoch(model, epoch):\n",
        "\n",
        "  # Reset the total loss for this epoch.\n",
        "  total_train_loss = 0\n",
        "\n",
        "  model.train()\n",
        "  for _, data in enumerate(train_data_loader):\n",
        "\n",
        "    X, label = data\n",
        "    X = X.to(device)\n",
        "    label = label.to(device)\n",
        "    \n",
        "    output=model(X)\n",
        "    loss=criterion(output, label)\n",
        "\n",
        "    optim.zero_grad()\n",
        "    loss.backward()\n",
        "    total_train_loss += loss.item()\n",
        "    optim.step()\n",
        "  \n",
        "  _, eval_loss, _ = eval_model(model, val_dataset)\n",
        "\n",
        "  print(f\"For epoch {epoch}, training loss is {total_train_loss/len(train_dataset)} and evaluation loss is {eval_loss}.\")\n"
      ],
      "metadata": {
        "id": "gJ-tIoB1Qoar"
      },
      "execution_count": 21,
      "outputs": []
    },
    {
      "cell_type": "code",
      "source": [
        "num_epochs = 25\n",
        "\n",
        "for epoch_i in range(num_epochs):\n",
        "\n",
        "  print(f\"Epoch number {epoch_i}\")\n",
        "  train_eval_1_epoch(model, epoch_i)\n"
      ],
      "metadata": {
        "id": "a-s5U7JoV4UQ",
        "colab": {
          "base_uri": "https://localhost:8080/"
        },
        "outputId": "2d913bf8-8419-4761-e95d-2068f07d056b"
      },
      "execution_count": 22,
      "outputs": [
        {
          "output_type": "stream",
          "name": "stdout",
          "text": [
            "Epoch number 0\n",
            "For epoch 0, training loss is 2.9447884759852414 and evaluation loss is 2.633495330810547.\n",
            "Epoch number 1\n",
            "For epoch 1, training loss is 2.413878710280619 and evaluation loss is 2.2703651176704156.\n",
            "Epoch number 2\n",
            "For epoch 2, training loss is 2.0387452565258104 and evaluation loss is 1.979385976826315.\n",
            "Epoch number 3\n",
            "For epoch 3, training loss is 1.745997948691255 and evaluation loss is 1.746841577383188.\n",
            "Epoch number 4\n",
            "For epoch 4, training loss is 1.5169201060503879 and evaluation loss is 1.5715846037253356.\n",
            "Epoch number 5\n",
            "For epoch 5, training loss is 1.341296003538397 and evaluation loss is 1.4221541855361435.\n",
            "Epoch number 6\n",
            "For epoch 6, training loss is 1.1905650322747336 and evaluation loss is 1.3213162474579863.\n",
            "Epoch number 7\n",
            "For epoch 7, training loss is 1.076750433790018 and evaluation loss is 1.261642078776936.\n",
            "Epoch number 8\n",
            "For epoch 8, training loss is 0.9859147132099088 and evaluation loss is 1.1615552028893552.\n",
            "Epoch number 9\n",
            "For epoch 9, training loss is 0.8973690861835316 and evaluation loss is 1.1273720150902158.\n",
            "Epoch number 10\n",
            "For epoch 10, training loss is 0.8304765703626618 and evaluation loss is 1.0600578182346219.\n",
            "Epoch number 11\n",
            "For epoch 11, training loss is 0.7621806067347381 and evaluation loss is 1.0197188967750186.\n",
            "Epoch number 12\n",
            "For epoch 12, training loss is 0.7068965334917544 and evaluation loss is 1.0343081156412761.\n",
            "Epoch number 13\n",
            "For epoch 13, training loss is 0.6707873307487404 and evaluation loss is 0.9828867929759043.\n",
            "Epoch number 14\n",
            "For epoch 14, training loss is 0.6330856932847295 and evaluation loss is 0.9620405832926432.\n",
            "Epoch number 15\n",
            "For epoch 15, training loss is 0.5863618909024823 and evaluation loss is 0.9218063144893437.\n",
            "Epoch number 16\n",
            "For epoch 16, training loss is 0.5483820371320672 and evaluation loss is 0.9222546182709299.\n",
            "Epoch number 17\n",
            "For epoch 17, training loss is 0.5122600326818006 and evaluation loss is 0.8822426359295409.\n",
            "Epoch number 18\n",
            "For epoch 18, training loss is 0.48407456420948203 and evaluation loss is 0.8853033016889523.\n",
            "Epoch number 19\n",
            "For epoch 19, training loss is 0.46603869108875773 and evaluation loss is 0.8790262941912417.\n",
            "Epoch number 20\n",
            "For epoch 20, training loss is 0.4489965240565602 and evaluation loss is 0.8937506763053028.\n",
            "Epoch number 21\n",
            "For epoch 21, training loss is 0.42340389116413973 and evaluation loss is 0.8604763506096361.\n",
            "Epoch number 22\n",
            "For epoch 22, training loss is 0.3944074410688522 and evaluation loss is 0.8673706124553751.\n",
            "Epoch number 23\n",
            "For epoch 23, training loss is 0.3737518179917209 and evaluation loss is 0.8466962597745679.\n",
            "Epoch number 24\n",
            "For epoch 24, training loss is 0.3550672099583498 and evaluation loss is 0.8425401680635445.\n"
          ]
        }
      ]
    },
    {
      "cell_type": "code",
      "source": [
        "print(len(train_dataset))\n",
        "print(len(val_dataset))"
      ],
      "metadata": {
        "colab": {
          "base_uri": "https://localhost:8080/"
        },
        "id": "bI363qti9-Sg",
        "outputId": "5e24f3cd-ea32-412b-f79c-70da1adbef7a"
      },
      "execution_count": 23,
      "outputs": [
        {
          "output_type": "stream",
          "name": "stdout",
          "text": [
            "4906\n",
            "546\n"
          ]
        }
      ]
    },
    {
      "cell_type": "code",
      "source": [
        "train_eval = train_dataset + val_dataset\n",
        "print(len(train_eval))"
      ],
      "metadata": {
        "colab": {
          "base_uri": "https://localhost:8080/"
        },
        "id": "fSwoxksu99jQ",
        "outputId": "75236957-b676-440d-beb7-3363b52f3121"
      },
      "execution_count": 24,
      "outputs": [
        {
          "output_type": "stream",
          "name": "stdout",
          "text": [
            "5452\n"
          ]
        }
      ]
    },
    {
      "cell_type": "code",
      "source": [
        "acc, _, _ = eval_model(model, train_dataset)\n",
        "(acc)"
      ],
      "metadata": {
        "colab": {
          "base_uri": "https://localhost:8080/"
        },
        "id": "wiHe-5bIXxlY",
        "outputId": "b353be47-dc4c-43bc-b7c2-2be9839b8905"
      },
      "execution_count": 25,
      "outputs": [
        {
          "output_type": "execute_result",
          "data": {
            "text/plain": [
              "tensor(0.9130, device='cuda:0')"
            ]
          },
          "metadata": {},
          "execution_count": 25
        }
      ]
    },
    {
      "cell_type": "code",
      "source": [
        "acc, _, _ = eval_model(model, train_eval)\n",
        "acc"
      ],
      "metadata": {
        "colab": {
          "base_uri": "https://localhost:8080/"
        },
        "id": "9NZMP4d4-JH7",
        "outputId": "65fecb33-db7e-4f68-9208-0bcb950d3e68"
      },
      "execution_count": 26,
      "outputs": [
        {
          "output_type": "execute_result",
          "data": {
            "text/plain": [
              "tensor(0.8986, device='cuda:0')"
            ]
          },
          "metadata": {},
          "execution_count": 26
        }
      ]
    },
    {
      "cell_type": "code",
      "source": [
        "path_to_test_data = '/content/drive/MyDrive/CS728_Assgn3/AnswerTypeInference_Test_Data.txt'\n",
        "question_test, coarse_label_test, fine_label_test = get_data(path_to_test_data)"
      ],
      "metadata": {
        "id": "eAAe65uyxKQV"
      },
      "execution_count": 27,
      "outputs": []
    },
    {
      "cell_type": "code",
      "source": [
        "cls_list_test = get_cls_list(question_test)"
      ],
      "metadata": {
        "id": "XDmZ7HJAxI2H"
      },
      "execution_count": 28,
      "outputs": []
    },
    {
      "cell_type": "code",
      "source": [
        "#Test dataset\n",
        "test_input_ids = torch.cat(cls_list_test, dim=0)\n",
        "test_target = torch.tensor(le.transform(fine_label_test))\n",
        "\n",
        "test_dataset = TensorDataset(test_input_ids, test_target)"
      ],
      "metadata": {
        "id": "3Gl17-koztza"
      },
      "execution_count": 29,
      "outputs": []
    },
    {
      "cell_type": "code",
      "source": [
        "acc, _, y_preds = eval_model(model, test_dataset)\n",
        "print(\"Accuracy of model on test dataset is\", acc)"
      ],
      "metadata": {
        "colab": {
          "base_uri": "https://localhost:8080/"
        },
        "id": "Xayh4S_0-fb9",
        "outputId": "c295b96b-5e7a-4370-a683-a4d52a5ec6d3"
      },
      "execution_count": 30,
      "outputs": [
        {
          "output_type": "stream",
          "name": "stdout",
          "text": [
            "Accuracy of model on test dataset is tensor(0.8000, device='cuda:0')\n"
          ]
        }
      ]
    },
    {
      "cell_type": "code",
      "source": [
        "lst = list(zip(fine_label, coarse_label))\n",
        "mapping = set(lst)\n",
        "mapping.remove(('other', 'LOC'))\n",
        "mapping.remove(('other', 'NUM'))\n",
        "lookup = dict(list(mapping))\n",
        "\n",
        "y_coarse = []\n",
        "for pred in y_preds:\n",
        "  y_coarse.append(lookup[pred])"
      ],
      "metadata": {
        "id": "qTqfW7GuffRJ"
      },
      "execution_count": 31,
      "outputs": []
    },
    {
      "cell_type": "code",
      "source": [
        "test_df = pd.DataFrame(zip(y_coarse, y_preds, question_test))\n",
        "test_df.to_csv(\"test_predictions.csv\",index = False, header = False)"
      ],
      "metadata": {
        "id": "RX-Y4gWxcF-d"
      },
      "execution_count": 32,
      "outputs": []
    }
  ]
}